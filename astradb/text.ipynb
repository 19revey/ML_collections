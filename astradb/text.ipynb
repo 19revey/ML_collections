{
 "cells": [
  {
   "cell_type": "code",
   "execution_count": 20,
   "metadata": {},
   "outputs": [],
   "source": [
    "# import Libraries\n",
    "import os\n",
    "import langchain\n",
    "import pinecone \n",
    "from langchain.document_loaders import PyPDFDirectoryLoader\n",
    "from langchain.text_splitter import RecursiveCharacterTextSplitter\n",
    "from langchain.vectorstores import Pinecone\n",
    "\n",
    "from langchain_google_genai import GoogleGenerativeAI,GoogleGenerativeAIEmbeddings\n",
    "\n",
    "from dotenv import load_dotenv\n",
    "load_dotenv()\n",
    "GOOGLE_API_KEY=os.getenv(\"GOOGLE_API_KEY\")"
   ]
  },
  {
   "cell_type": "code",
   "execution_count": 31,
   "metadata": {},
   "outputs": [],
   "source": [
    "llm=GoogleGenerativeAI(model=\"gemini-pro\", temperature=0.5,api_key=GOOGLE_API_KEY)\n",
    "embedding = GoogleGenerativeAIEmbeddings(model = \"models/embedding-001\",api_key=GOOGLE_API_KEY)"
   ]
  },
  {
   "cell_type": "code",
   "execution_count": 25,
   "metadata": {},
   "outputs": [],
   "source": [
    "from langchain.text_splitter import CharacterTextSplitter\n",
    "from pypdf import PdfReader\n",
    "import glob\n",
    "\n",
    "class readpdf:\n",
    "    def __init__(self, pdf_docs) :\n",
    "        self.pdf_docs=pdf_docs\n",
    "        self.text = \"\"\n",
    "\n",
    "    def get_pdf_text(self):\n",
    "        for pdf in self.pdf_docs:\n",
    "            pdf_reader = PdfReader(pdf)\n",
    "            for page in pdf_reader.pages:\n",
    "                content=page.extract_text() \n",
    "                if content:\n",
    "                    self.text += content \n",
    "\n",
    "    def get_text_chunks(self):\n",
    "        text_splitter = RecursiveCharacterTextSplitter(\n",
    "        chunk_size=800,\n",
    "        chunk_overlap=50,\n",
    "        length_function=len\n",
    "        )\n",
    "        chunks = text_splitter.split_text(self.text)\n",
    "        return chunks\n",
    "    \n",
    "pdf_files = glob.glob(\"*.pdf\")\n",
    "text = readpdf(pdf_files)\n",
    "text.get_pdf_text()\n",
    "chunks=text.get_text_chunks()\n"
   ]
  },
  {
   "cell_type": "code",
   "execution_count": 26,
   "metadata": {},
   "outputs": [
    {
     "data": {
      "text/plain": [
       "118"
      ]
     },
     "execution_count": 26,
     "metadata": {},
     "output_type": "execute_result"
    }
   ],
   "source": [
    "len(chunks)"
   ]
  },
  {
   "cell_type": "code",
   "execution_count": 29,
   "metadata": {},
   "outputs": [
    {
     "name": "stdout",
     "output_type": "stream",
     "text": [
      "Inserted 118 headlines.\n"
     ]
    }
   ],
   "source": [
    "import cassio\n",
    "from langchain.vectorstores.cassandra import Cassandra\n",
    "from langchain.indexes.vectorstore import VectorStoreIndexWrapper\n",
    "\n",
    "ASTRA_DB_ID=os.getenv(\"ASTRA_DB_ID\")\n",
    "ASTRA_DB_APPLICATION_TOKEN=os.getenv(\"ASTRA_DB_APPLICATION_TOKEN\")\n",
    "\n",
    "cassio.init(token=ASTRA_DB_APPLICATION_TOKEN,database_id=ASTRA_DB_ID)\n",
    "astra_vector_store=Cassandra(\n",
    "    embedding=embedding,\n",
    "    table_name=\"test\",\n",
    "    session=None,\n",
    "    keyspace=None,\n",
    ")\n",
    "\n",
    "astra_vector_store.add_texts(chunks)\n",
    "print(\"Inserted %i headlines.\" % len(chunks))\n",
    "astra_vector_index=VectorStoreIndexWrapper(vectorstore=astra_vector_store)"
   ]
  },
  {
   "cell_type": "code",
   "execution_count": 35,
   "metadata": {},
   "outputs": [
    {
     "name": "stdout",
     "output_type": "stream",
     "text": [
      "I don't know. The provided context does not mention anything about the percentage increase in the agriculture target.\n"
     ]
    }
   ],
   "source": [
    "query_text=\"How much the agriculture target will be increased by how many percentage?\"\n",
    "answer=astra_vector_index.query(query_text,llm=llm).strip()\n",
    "print(answer)"
   ]
  },
  {
   "cell_type": "code",
   "execution_count": null,
   "metadata": {},
   "outputs": [],
   "source": []
  }
 ],
 "metadata": {
  "kernelspec": {
   "display_name": "Python 3",
   "language": "python",
   "name": "python3"
  },
  "language_info": {
   "codemirror_mode": {
    "name": "ipython",
    "version": 3
   },
   "file_extension": ".py",
   "mimetype": "text/x-python",
   "name": "python",
   "nbconvert_exporter": "python",
   "pygments_lexer": "ipython3",
   "version": "3.8.10"
  }
 },
 "nbformat": 4,
 "nbformat_minor": 2
}
