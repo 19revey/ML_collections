{
 "cells": [
  {
   "cell_type": "code",
   "execution_count": null,
   "metadata": {},
   "outputs": [],
   "source": [
    "! cd /app\n",
    "\n",
    "import os\n",
    "from ultralytics import YOLO\n",
    "import cv2\n",
    "import cvzone\n",
    "import math\n",
    "import numpy as np\n",
    "from PIL import  Image\n",
    "# from utils import score, detect_down, detect_up, in_hoop_region, clean_hoop_pos, clean_ball_pos\n",
    "# model = YOLO('/app/best.pt')\n"
   ]
  },
  {
   "cell_type": "code",
   "execution_count": null,
   "metadata": {},
   "outputs": [],
   "source": [
    "\n",
    "model = YOLO('/app/best.pt')\n",
    "# im=Image.open(\"/app/bus.jpg\")\n",
    "# im=Image.open(\"/runs/detect/train3/train_batch0.jpg\")\n",
    "# results=model.predict(source=im)\n",
    "# im.show()"
   ]
  },
  {
   "cell_type": "code",
   "execution_count": null,
   "metadata": {},
   "outputs": [],
   "source": [
    "\n",
    "# Run inference on an image with YOLOv8n\n",
    "# !yolo predict model=yolov8n.pt source=\"/app/bus.jpg\"\n",
    "# !yolo predict model=yolov8n.pt source='https://ultralytics.com/images/zidane.jpg'\n",
    "results = model('/app/test.jpg')"
   ]
  },
  {
   "cell_type": "code",
   "execution_count": null,
   "metadata": {},
   "outputs": [],
   "source": [
    "results[0].boxes.conf"
   ]
  },
  {
   "cell_type": "code",
   "execution_count": 5,
   "metadata": {},
   "outputs": [
    {
     "name": "stdout",
     "output_type": "stream",
     "text": [
      "[youtube] Extracting URL: https://www.youtube.com/watch?v=c7n8G4wK2Ss&ab_channel=GoldenStateWarriors\n",
      "[youtube] c7n8G4wK2Ss: Downloading webpage\n",
      "[youtube] c7n8G4wK2Ss: Downloading ios player API JSON\n",
      "[youtube] c7n8G4wK2Ss: Downloading android player API JSON\n",
      "[youtube] c7n8G4wK2Ss: Downloading m3u8 information\n"
     ]
    }
   ],
   "source": [
    "# import cv2\n",
    "# cap = cv2.VideoCapture(\"https://www.youtube.com/watch?v=c7n8G4wK2Ss&ab_channel=GoldenStateWarriors\")\n",
    "import pafy\n",
    "import cv2\n",
    "\n",
    "import cv2\n",
    "from cap_from_youtube import cap_from_youtube\n",
    "\n",
    "youtube_url = 'https://www.youtube.com/watch?v=c7n8G4wK2Ss&ab_channel=GoldenStateWarriors'\n",
    "cap = cap_from_youtube(youtube_url, '480p')"
   ]
  },
  {
   "cell_type": "code",
   "execution_count": 6,
   "metadata": {},
   "outputs": [],
   "source": [
    "if not cap.isOpened():\n",
    "    print(\"Error: Unable to open video stream.\")\n",
    "    exit()"
   ]
  },
  {
   "cell_type": "code",
   "execution_count": 12,
   "metadata": {},
   "outputs": [
    {
     "ename": "TypeError",
     "evalue": "empty() missing required argument 'shape' (pos 0)",
     "output_type": "error",
     "traceback": [
      "\u001b[0;31m---------------------------------------------------------------------------\u001b[0m",
      "\u001b[0;31mTypeError\u001b[0m                                 Traceback (most recent call last)",
      "Cell \u001b[0;32mIn[12], line 2\u001b[0m\n\u001b[1;32m      1\u001b[0m \u001b[38;5;28;01mimport\u001b[39;00m \u001b[38;5;21;01mnumpy\u001b[39;00m \u001b[38;5;28;01mas\u001b[39;00m \u001b[38;5;21;01mnp\u001b[39;00m\n\u001b[0;32m----> 2\u001b[0m a\u001b[38;5;241m=\u001b[39m\u001b[43mnp\u001b[49m\u001b[38;5;241;43m.\u001b[39;49m\u001b[43mempty\u001b[49m\u001b[43m(\u001b[49m\u001b[43m)\u001b[49m\n\u001b[1;32m      3\u001b[0m a\u001b[38;5;241m=\u001b[39m(\u001b[38;5;241m1\u001b[39m,\u001b[38;5;241m2\u001b[39m,\u001b[38;5;241m3\u001b[39m,\u001b[38;5;241m4\u001b[39m,\u001b[38;5;241m5\u001b[39m)\n\u001b[1;32m      4\u001b[0m a\n",
      "\u001b[0;31mTypeError\u001b[0m: empty() missing required argument 'shape' (pos 0)"
     ]
    }
   ],
   "source": [
    "import numpy as np\n",
    "a=np.empty((4,1))\n",
    "a=(1,2,3,4,5)\n",
    "a"
   ]
  },
  {
   "cell_type": "code",
   "execution_count": null,
   "metadata": {},
   "outputs": [],
   "source": []
  }
 ],
 "metadata": {
  "kernelspec": {
   "display_name": "Python 3",
   "language": "python",
   "name": "python3"
  },
  "language_info": {
   "codemirror_mode": {
    "name": "ipython",
    "version": 3
   },
   "file_extension": ".py",
   "mimetype": "text/x-python",
   "name": "python",
   "nbconvert_exporter": "python",
   "pygments_lexer": "ipython3",
   "version": "3.8.10"
  }
 },
 "nbformat": 4,
 "nbformat_minor": 2
}
