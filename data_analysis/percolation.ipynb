{
 "cells": [
  {
   "cell_type": "code",
   "execution_count": null,
   "metadata": {},
   "outputs": [],
   "source": [
    "import numpy as np\n",
    "from scipy.ndimage import measurements\n",
    "import matplotlib.pyplot as plt\n",
    "from sklearn.model_selection import train_test_split\n",
    "from sklearn.ensemble import RandomForestClassifier\n",
    "from sklearn.metrics import classification_report, accuracy_score\n",
    "\n",
    "def generate_percolation_data(L, p, num_samples):\n",
    "    \"\"\"Generate percolation data with given grid size L and occupation probability p.\"\"\"\n",
    "    data = []\n",
    "    labels = []\n",
    "    for _ in range(num_samples):\n",
    "        grid = np.random.rand(L, L) < p\n",
    "        lw, num = measurements.label(grid)\n",
    "        perc = np.isin(lw[0, :], lw[-1, :])\n",
    "        data.append(grid.flatten())\n",
    "        labels.append(1 if perc.any() else 0)\n",
    "    return np.array(data), np.array(labels)\n",
    "\n",
    "# Parameters\n",
    "L = 20  # Grid size\n",
    "num_samples = 1000  # Number of samples per probability\n",
    "\n",
    "# Generate data for various probabilities\n",
    "probabilities = np.linspace(0.4, 0.7, num=30)\n",
    "data = []\n",
    "labels = []\n",
    "for p in probabilities:\n",
    "    d, l = generate_percolation_data(L, p, num_samples)\n",
    "    data.append(d)\n",
    "    labels.append(l)\n",
    "\n",
    "data = np.vstack(data)\n",
    "labels = np.concatenate(labels)\n"
   ]
  },
  {
   "cell_type": "code",
   "execution_count": null,
   "metadata": {},
   "outputs": [],
   "source": [
    "min(labels)"
   ]
  },
  {
   "cell_type": "code",
   "execution_count": null,
   "metadata": {},
   "outputs": [],
   "source": [
    "# Split the data into training and testing sets\n",
    "X_train, X_test, y_train, y_test = train_test_split(data, labels, test_size=0.3, random_state=42)\n",
    "\n",
    "# Train a Random Forest classifier\n",
    "model = RandomForestClassifier(n_estimators=100, random_state=42)\n",
    "model.fit(X_train, y_train)\n",
    "\n",
    "# Make predictions\n",
    "y_pred = model.predict(X_test)\n",
    "\n",
    "# Evaluate the model\n",
    "print(\"Classification Report:\")\n",
    "print(classification_report(y_test, y_pred))\n",
    "\n",
    "print(\"Accuracy Score:\")\n",
    "print(accuracy_score(y_test, y_pred))\n"
   ]
  },
  {
   "cell_type": "code",
   "execution_count": null,
   "metadata": {},
   "outputs": [],
   "source": [
    "y_pred.shape"
   ]
  },
  {
   "cell_type": "code",
   "execution_count": null,
   "metadata": {},
   "outputs": [],
   "source": [
    "# Predict percolation probability for different occupation probabilities\n",
    "percolation_probs = []\n",
    "test_probabilities = np.linspace(0.4, 0.7, num=100)\n",
    "for p in test_probabilities:\n",
    "    test_data, _ = generate_percolation_data(L, p, 100)\n",
    "    percolation_prob = model.predict_proba(test_data).mean()\n",
    "    percolation_probs.append(percolation_prob)\n",
    "\n",
    "# Plot the results\n",
    "plt.plot(test_probabilities, percolation_probs, marker='o')\n",
    "plt.xlabel('Occupation Probability (p)')\n",
    "plt.ylabel('Predicted Percolation Probability')\n",
    "plt.title('Predicted Percolation Probability vs. Occupation Probability')\n",
    "plt.grid(True)\n",
    "plt.axvline(x=0.593, color='r', linestyle='--', label='Theoretical Threshold')\n",
    "plt.legend()\n",
    "plt.show()\n",
    "\n",
    "# Estimate the percolation threshold\n",
    "threshold_index = np.where(np.array(percolation_probs) >= 0.5)[0][0]\n",
    "approx_threshold = test_probabilities[threshold_index]\n",
    "print(f\"Estimated percolation threshold: {approx_threshold:.3f}\")\n"
   ]
  },
  {
   "cell_type": "code",
   "execution_count": null,
   "metadata": {},
   "outputs": [],
   "source": [
    "import numpy as np\n",
    "from scipy.ndimage import measurements\n",
    "import matplotlib.pyplot as plt\n",
    "from sklearn.model_selection import train_test_split\n",
    "from sklearn.ensemble import RandomForestClassifier\n",
    "from sklearn.metrics import classification_report, accuracy_score\n",
    "\n",
    "def generate_percolation_data(L, p, num_samples):\n",
    "    \"\"\"Generate percolation data with given grid size L and occupation probability p.\"\"\"\n",
    "    data = []\n",
    "    labels = []\n",
    "    for _ in range(num_samples):\n",
    "        grid = np.random.rand(L, L) < p\n",
    "        lw, num = measurements.label(grid)\n",
    "        perc = np.isin(lw[0, :], lw[-1, :])\n",
    "        data.append(grid.flatten())\n",
    "        labels.append(1 if perc.any() else 0)\n",
    "    return np.array(data), np.array(labels)\n",
    "\n",
    "# Parameters\n",
    "L = 20  # Grid size\n",
    "num_samples = 100  # Number of samples per probability\n",
    "\n",
    "# Generate data for various probabilities\n",
    "probabilities = np.linspace(0.4, 0.7, num=30)\n",
    "data = []\n",
    "labels = []\n",
    "\n",
    "# Adding a check for the labels for each probability\n",
    "for p in probabilities:\n",
    "    d, l = generate_percolation_data(L, p, num_samples)\n",
    "    data.append(d)\n",
    "    labels.append(l)\n",
    "    print(f\"Probability: {p}, Percolating samples: {np.sum(l)}, Non-percolating samples: {len(l) - np.sum(l)}\")\n",
    "\n",
    "data = np.vstack(data)\n",
    "labels = np.concatenate(labels)\n",
    "\n",
    "# Ensure we have a mix of labels\n",
    "print(f\"Total samples: {len(labels)}, Percolating: {np.sum(labels)}, Non-percolating: {len(labels) - np.sum(labels)}\")\n",
    "\n"
   ]
  },
  {
   "cell_type": "code",
   "execution_count": 28,
   "metadata": {},
   "outputs": [
    {
     "name": "stderr",
     "output_type": "stream",
     "text": [
      "/tmp/ipykernel_296934/3767352111.py:5: DeprecationWarning: Please import `label` from the `scipy.ndimage` namespace; the `scipy.ndimage.measurements` namespace is deprecated and will be removed in SciPy 2.0.0.\n",
      "  lw, num = measurements.label(grid)\n"
     ]
    }
   ],
   "source": [
    "data = []\n",
    "labels = []\n",
    "\n",
    "grid = np.random.rand(L, L) < 0.1\n",
    "lw, num = measurements.label(grid)\n",
    "perc = np.isin(lw[0, :], lw[-1, :])\n",
    "data.append(grid.flatten())\n",
    "labels.append(1 if perc.any() else 0)\n"
   ]
  },
  {
   "cell_type": "code",
   "execution_count": 3,
   "metadata": {},
   "outputs": [],
   "source": [
    "import numpy as np\n",
    "from scipy.ndimage import measurements\n",
    "\n",
    "def generate_percolation_data(L, p, num_samples):\n",
    "    \"\"\"Generate percolation data with given grid size L and occupation probability p.\"\"\"\n",
    "    data = []\n",
    "    labels = []\n",
    "    for _ in range(num_samples):\n",
    "        grid = np.random.rand(L, L) < p\n",
    "        lw, num = measurements.label(grid)\n",
    "        perc = np.isin(lw[0, :], lw[-1, :])\n",
    "        data.append(grid.flatten())\n",
    "        labels.append(1 if perc.any() else 0)\n",
    "    return np.array(data), np.array(labels)"
   ]
  },
  {
   "cell_type": "code",
   "execution_count": 5,
   "metadata": {},
   "outputs": [
    {
     "name": "stderr",
     "output_type": "stream",
     "text": [
      "/tmp/ipykernel_33727/3170913890.py:10: DeprecationWarning: Please import `label` from the `scipy.ndimage` namespace; the `scipy.ndimage.measurements` namespace is deprecated and will be removed in SciPy 2.0.0.\n",
      "  lw, num = measurements.label(grid)\n"
     ]
    },
    {
     "data": {
      "text/plain": [
       "(array([[False, False, False, False, False, False, False, False, False,\n",
       "         False, False, False, False, False, False, False, False, False,\n",
       "         False, False, False, False, False, False, False, False, False,\n",
       "         False, False, False, False, False, False, False, False, False,\n",
       "         False, False, False, False, False, False, False, False, False,\n",
       "         False, False, False, False, False, False, False, False, False,\n",
       "         False, False, False, False, False, False, False, False, False,\n",
       "         False, False, False, False, False, False, False, False, False,\n",
       "         False, False, False, False, False, False, False, False, False,\n",
       "         False, False, False, False, False, False, False, False, False,\n",
       "         False, False, False, False, False, False, False, False, False,\n",
       "         False]]),\n",
       " array([1]))"
      ]
     },
     "execution_count": 5,
     "metadata": {},
     "output_type": "execute_result"
    }
   ],
   "source": [
    "generate_percolation_data(10,0.0,1)"
   ]
  },
  {
   "cell_type": "code",
   "execution_count": null,
   "metadata": {},
   "outputs": [],
   "source": []
  }
 ],
 "metadata": {
  "kernelspec": {
   "display_name": "ml",
   "language": "python",
   "name": "python3"
  },
  "language_info": {
   "codemirror_mode": {
    "name": "ipython",
    "version": 3
   },
   "file_extension": ".py",
   "mimetype": "text/x-python",
   "name": "python",
   "nbconvert_exporter": "python",
   "pygments_lexer": "ipython3",
   "version": "3.11.7"
  }
 },
 "nbformat": 4,
 "nbformat_minor": 2
}
