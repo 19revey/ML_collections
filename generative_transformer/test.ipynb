{
 "cells": [
  {
   "cell_type": "code",
   "execution_count": 4,
   "metadata": {},
   "outputs": [
    {
     "data": {
      "text/plain": [
       "torch.Size([1, 1, 65])"
      ]
     },
     "execution_count": 4,
     "metadata": {},
     "output_type": "execute_result"
    }
   ],
   "source": [
    "import genet\n",
    "import torch\n",
    "from genet.util.text_character_tokenizer import TextCharacterTokenizer, TextCharacterDataset\n",
    "from genet.util.config import TrainConfigure\n",
    "from genet import Trainer\n",
    "\n",
    "corpus_file_path = \"input.txt\"\n",
    "tokenizer = TextCharacterTokenizer.from_file(corpus_file_path)\n",
    "\n",
    "config = TrainConfigure(\n",
    "    vocab_size=tokenizer.vocab_size,\n",
    "    context_length=128,\n",
    "    embedding_size=128,\n",
    "    num_epochs=5,\n",
    "    batch_size=32,\n",
    "    num_heads=4,\n",
    "    num_blocks=4,\n",
    ")\n",
    "\n",
    "\n",
    "\n",
    "device=genet.util.get_auto_device()\n",
    "model=genet.GPT(config).to(device)\n",
    "\n",
    "# # from genet.components.attention import CasualAttentionBlock\n",
    "# # model=CasualAttentionBlock(config).to(device)\n",
    "# context = torch.zeros((1, 1), dtype=torch.long, device=device)\n",
    "# model(context)[0].shape\n",
    "\n",
    "# print(decode(model.generate(context, max_new_tokens=500)[0].tolist()))\n",
    "\n",
    "# dataset = TextCharacterDataset.from_file(corpus_file_path, tokenizer.vocabulary, config.context_length)\n",
    "# trainer = Trainer(config)\n",
    "# trainer.train(dataset)"
   ]
  },
  {
   "cell_type": "code",
   "execution_count": null,
   "metadata": {},
   "outputs": [],
   "source": [
    "device\n"
   ]
  },
  {
   "cell_type": "markdown",
   "metadata": {},
   "source": []
  },
  {
   "cell_type": "code",
   "execution_count": null,
   "metadata": {},
   "outputs": [],
   "source": [
    "with open('../input.txt', 'r', encoding='utf-8') as f:\n",
    "    text = f.read()\n",
    "\n",
    "tokenizer=TextCharacterTokenizer.from_file('../input.txt')\n",
    "\n",
    "context = \"KING JOHNNY:\\nTo be, or not to be: that is the question.\"\n",
    "tokenizer.encode(context).shape\n",
    "\n",
    "# # here are all the unique characters that occur in this text\n",
    "# chars = sorted(list(set(text)))\n",
    "# vocab_size = len(chars)\n",
    "# # create a mapping from characters to integers\n",
    "# stoi = { ch:i for i,ch in enumerate(chars) }\n",
    "# itos = { i:ch for i,ch in enumerate(chars) }\n",
    "# encode = lambda s: [stoi[c] for c in s] # encoder: take a string, output a list of integers\n",
    "# decode = lambda l: ''.join([itos[i] for i in l]) # decoder: take a list of integers, output a string"
   ]
  },
  {
   "cell_type": "code",
   "execution_count": null,
   "metadata": {},
   "outputs": [],
   "source": [
    "torch.__version__"
   ]
  },
  {
   "cell_type": "code",
   "execution_count": null,
   "metadata": {},
   "outputs": [],
   "source": []
  }
 ],
 "metadata": {
  "kernelspec": {
   "display_name": "Python 3",
   "language": "python",
   "name": "python3"
  },
  "language_info": {
   "codemirror_mode": {
    "name": "ipython",
    "version": 3
   },
   "file_extension": ".py",
   "mimetype": "text/x-python",
   "name": "python",
   "nbconvert_exporter": "python",
   "pygments_lexer": "ipython3",
   "version": "3.10.12"
  }
 },
 "nbformat": 4,
 "nbformat_minor": 2
}
