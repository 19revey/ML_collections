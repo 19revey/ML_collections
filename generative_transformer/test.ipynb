{
 "cells": [
  {
   "cell_type": "code",
   "execution_count": 3,
   "metadata": {},
   "outputs": [
    {
     "data": {
      "text/html": [
       "<pre style=\"white-space:pre;overflow-x:auto;line-height:normal;font-family:Menlo,'DejaVu Sans Mono',consolas,'Courier New',monospace\">epoch: 1     |  batch: 500      |  average batch loss: 2.4706\n",
       "</pre>\n"
      ],
      "text/plain": [
       "epoch: 1     |  batch: 500      |  average batch loss: 2.4706\n"
      ]
     },
     "metadata": {},
     "output_type": "display_data"
    },
    {
     "data": {
      "text/html": [
       "<pre style=\"white-space:pre;overflow-x:auto;line-height:normal;font-family:Menlo,'DejaVu Sans Mono',consolas,'Courier New',monospace\">epoch: 1     |  batch: 1000     |  average batch loss: 1.9837\n",
       "</pre>\n"
      ],
      "text/plain": [
       "epoch: 1     |  batch: 1000     |  average batch loss: 1.9837\n"
      ]
     },
     "metadata": {},
     "output_type": "display_data"
    },
    {
     "data": {
      "text/html": [
       "<pre style=\"white-space:pre;overflow-x:auto;line-height:normal;font-family:Menlo,'DejaVu Sans Mono',consolas,'Courier New',monospace\">epoch: 1     |  batch: 1500     |  average batch loss: 1.7469\n",
       "</pre>\n"
      ],
      "text/plain": [
       "epoch: 1     |  batch: 1500     |  average batch loss: 1.7469\n"
      ]
     },
     "metadata": {},
     "output_type": "display_data"
    },
    {
     "data": {
      "text/html": [
       "<pre style=\"white-space:pre;overflow-x:auto;line-height:normal;font-family:Menlo,'DejaVu Sans Mono',consolas,'Courier New',monospace\">epoch: 1     |  batch: 2000     |  average batch loss: 1.6321\n",
       "</pre>\n"
      ],
      "text/plain": [
       "epoch: 1     |  batch: 2000     |  average batch loss: 1.6321\n"
      ]
     },
     "metadata": {},
     "output_type": "display_data"
    },
    {
     "data": {
      "text/html": [
       "<pre style=\"white-space:pre;overflow-x:auto;line-height:normal;font-family:Menlo,'DejaVu Sans Mono',consolas,'Courier New',monospace\">epoch: 1     |  batch: 2500     |  average batch loss: 1.5668\n",
       "</pre>\n"
      ],
      "text/plain": [
       "epoch: 1     |  batch: 2500     |  average batch loss: 1.5668\n"
      ]
     },
     "metadata": {},
     "output_type": "display_data"
    },
    {
     "data": {
      "text/html": [
       "<pre style=\"white-space:pre;overflow-x:auto;line-height:normal;font-family:Menlo,'DejaVu Sans Mono',consolas,'Courier New',monospace\">epoch: 1     |  batch: 3000     |  average batch loss: 1.5231\n",
       "</pre>\n"
      ],
      "text/plain": [
       "epoch: 1     |  batch: 3000     |  average batch loss: 1.5231\n"
      ]
     },
     "metadata": {},
     "output_type": "display_data"
    },
    {
     "data": {
      "text/html": [
       "<pre style=\"white-space:pre;overflow-x:auto;line-height:normal;font-family:Menlo,'DejaVu Sans Mono',consolas,'Courier New',monospace\">epoch: 1     |  batch: 3500     |  average batch loss: 1.4921\n",
       "</pre>\n"
      ],
      "text/plain": [
       "epoch: 1     |  batch: 3500     |  average batch loss: 1.4921\n"
      ]
     },
     "metadata": {},
     "output_type": "display_data"
    },
    {
     "data": {
      "text/html": [
       "<pre style=\"white-space:pre;overflow-x:auto;line-height:normal;font-family:Menlo,'DejaVu Sans Mono',consolas,'Courier New',monospace\">epoch: 1     |  batch: 4000     |  average batch loss: 1.4663\n",
       "</pre>\n"
      ],
      "text/plain": [
       "epoch: 1     |  batch: 4000     |  average batch loss: 1.4663\n"
      ]
     },
     "metadata": {},
     "output_type": "display_data"
    },
    {
     "data": {
      "text/html": [
       "<pre style=\"white-space:pre;overflow-x:auto;line-height:normal;font-family:Menlo,'DejaVu Sans Mono',consolas,'Courier New',monospace\">epoch: 1     |  batch: 4500     |  average batch loss: 1.4485\n",
       "</pre>\n"
      ],
      "text/plain": [
       "epoch: 1     |  batch: 4500     |  average batch loss: 1.4485\n"
      ]
     },
     "metadata": {},
     "output_type": "display_data"
    },
    {
     "data": {
      "text/html": [
       "<pre style=\"white-space:pre;overflow-x:auto;line-height:normal;font-family:Menlo,'DejaVu Sans Mono',consolas,'Courier New',monospace\">epoch: 1     |  batch: 5000     |  average batch loss: 1.4333\n",
       "</pre>\n"
      ],
      "text/plain": [
       "epoch: 1     |  batch: 5000     |  average batch loss: 1.4333\n"
      ]
     },
     "metadata": {},
     "output_type": "display_data"
    },
    {
     "data": {
      "text/html": [
       "<pre style=\"white-space:pre;overflow-x:auto;line-height:normal;font-family:Menlo,'DejaVu Sans Mono',consolas,'Courier New',monospace\">epoch: 1     |  batch: 5500     |  average batch loss: 1.4202\n",
       "</pre>\n"
      ],
      "text/plain": [
       "epoch: 1     |  batch: 5500     |  average batch loss: 1.4202\n"
      ]
     },
     "metadata": {},
     "output_type": "display_data"
    },
    {
     "data": {
      "text/html": [
       "<pre style=\"white-space:pre;overflow-x:auto;line-height:normal;font-family:Menlo,'DejaVu Sans Mono',consolas,'Courier New',monospace\">epoch: 1     |  batch: 6000     |  average batch loss: 1.4093\n",
       "</pre>\n"
      ],
      "text/plain": [
       "epoch: 1     |  batch: 6000     |  average batch loss: 1.4093\n"
      ]
     },
     "metadata": {},
     "output_type": "display_data"
    },
    {
     "data": {
      "text/html": [
       "<pre style=\"white-space:pre;overflow-x:auto;line-height:normal;font-family:Menlo,'DejaVu Sans Mono',consolas,'Courier New',monospace\">epoch: 1     |  batch: 6500     |  average batch loss: 1.3993\n",
       "</pre>\n"
      ],
      "text/plain": [
       "epoch: 1     |  batch: 6500     |  average batch loss: 1.3993\n"
      ]
     },
     "metadata": {},
     "output_type": "display_data"
    },
    {
     "data": {
      "text/html": [
       "<pre style=\"white-space:pre;overflow-x:auto;line-height:normal;font-family:Menlo,'DejaVu Sans Mono',consolas,'Courier New',monospace\">epoch: 1     |  batch: 7000     |  average batch loss: 1.3894\n",
       "</pre>\n"
      ],
      "text/plain": [
       "epoch: 1     |  batch: 7000     |  average batch loss: 1.3894\n"
      ]
     },
     "metadata": {},
     "output_type": "display_data"
    },
    {
     "data": {
      "text/html": [
       "<pre style=\"white-space:pre;overflow-x:auto;line-height:normal;font-family:Menlo,'DejaVu Sans Mono',consolas,'Courier New',monospace\">epoch: 1     |  batch: 7500     |  average batch loss: 1.3821\n",
       "</pre>\n"
      ],
      "text/plain": [
       "epoch: 1     |  batch: 7500     |  average batch loss: 1.3821\n"
      ]
     },
     "metadata": {},
     "output_type": "display_data"
    },
    {
     "data": {
      "text/html": [
       "<pre style=\"white-space:pre;overflow-x:auto;line-height:normal;font-family:Menlo,'DejaVu Sans Mono',consolas,'Courier New',monospace\">epoch: 1     |  batch: 8000     |  average batch loss: 1.3758\n",
       "</pre>\n"
      ],
      "text/plain": [
       "epoch: 1     |  batch: 8000     |  average batch loss: 1.3758\n"
      ]
     },
     "metadata": {},
     "output_type": "display_data"
    },
    {
     "data": {
      "text/html": [
       "<pre style=\"white-space:pre;overflow-x:auto;line-height:normal;font-family:Menlo,'DejaVu Sans Mono',consolas,'Courier New',monospace\">epoch: 1     |  batch: 8500     |  average batch loss: 1.3676\n",
       "</pre>\n"
      ],
      "text/plain": [
       "epoch: 1     |  batch: 8500     |  average batch loss: 1.3676\n"
      ]
     },
     "metadata": {},
     "output_type": "display_data"
    },
    {
     "data": {
      "text/html": [
       "<pre style=\"white-space:pre;overflow-x:auto;line-height:normal;font-family:Menlo,'DejaVu Sans Mono',consolas,'Courier New',monospace\">***** epoch: 1 complete  -&gt;  average train loss: 1.5544 *****\n",
       "</pre>\n"
      ],
      "text/plain": [
       "***** epoch: 1 complete  ->  average train loss: 1.5544 *****\n"
      ]
     },
     "metadata": {},
     "output_type": "display_data"
    },
    {
     "data": {
      "text/html": [
       "<pre style=\"white-space:pre;overflow-x:auto;line-height:normal;font-family:Menlo,'DejaVu Sans Mono',consolas,'Courier New',monospace\">epoch: 2     |  batch: 500      |  average batch loss: 1.3632\n",
       "</pre>\n"
      ],
      "text/plain": [
       "epoch: 2     |  batch: 500      |  average batch loss: 1.3632\n"
      ]
     },
     "metadata": {},
     "output_type": "display_data"
    },
    {
     "data": {
      "text/html": [
       "<pre style=\"white-space:pre;overflow-x:auto;line-height:normal;font-family:Menlo,'DejaVu Sans Mono',consolas,'Courier New',monospace\">epoch: 2     |  batch: 1000     |  average batch loss: 1.3559\n",
       "</pre>\n"
      ],
      "text/plain": [
       "epoch: 2     |  batch: 1000     |  average batch loss: 1.3559\n"
      ]
     },
     "metadata": {},
     "output_type": "display_data"
    },
    {
     "data": {
      "text/html": [
       "<pre style=\"white-space:pre;overflow-x:auto;line-height:normal;font-family:Menlo,'DejaVu Sans Mono',consolas,'Courier New',monospace\">epoch: 2     |  batch: 1500     |  average batch loss: 1.3502\n",
       "</pre>\n"
      ],
      "text/plain": [
       "epoch: 2     |  batch: 1500     |  average batch loss: 1.3502\n"
      ]
     },
     "metadata": {},
     "output_type": "display_data"
    },
    {
     "data": {
      "text/html": [
       "<pre style=\"white-space:pre;overflow-x:auto;line-height:normal;font-family:Menlo,'DejaVu Sans Mono',consolas,'Courier New',monospace\">epoch: 2     |  batch: 2000     |  average batch loss: 1.3461\n",
       "</pre>\n"
      ],
      "text/plain": [
       "epoch: 2     |  batch: 2000     |  average batch loss: 1.3461\n"
      ]
     },
     "metadata": {},
     "output_type": "display_data"
    },
    {
     "data": {
      "text/html": [
       "<pre style=\"white-space:pre;overflow-x:auto;line-height:normal;font-family:Menlo,'DejaVu Sans Mono',consolas,'Courier New',monospace\">epoch: 2     |  batch: 2500     |  average batch loss: 1.3418\n",
       "</pre>\n"
      ],
      "text/plain": [
       "epoch: 2     |  batch: 2500     |  average batch loss: 1.3418\n"
      ]
     },
     "metadata": {},
     "output_type": "display_data"
    },
    {
     "data": {
      "text/html": [
       "<pre style=\"white-space:pre;overflow-x:auto;line-height:normal;font-family:Menlo,'DejaVu Sans Mono',consolas,'Courier New',monospace\">epoch: 2     |  batch: 3000     |  average batch loss: 1.3384\n",
       "</pre>\n"
      ],
      "text/plain": [
       "epoch: 2     |  batch: 3000     |  average batch loss: 1.3384\n"
      ]
     },
     "metadata": {},
     "output_type": "display_data"
    },
    {
     "data": {
      "text/html": [
       "<pre style=\"white-space:pre;overflow-x:auto;line-height:normal;font-family:Menlo,'DejaVu Sans Mono',consolas,'Courier New',monospace\">epoch: 2     |  batch: 3500     |  average batch loss: 1.3370\n",
       "</pre>\n"
      ],
      "text/plain": [
       "epoch: 2     |  batch: 3500     |  average batch loss: 1.3370\n"
      ]
     },
     "metadata": {},
     "output_type": "display_data"
    },
    {
     "data": {
      "text/html": [
       "<pre style=\"white-space:pre;overflow-x:auto;line-height:normal;font-family:Menlo,'DejaVu Sans Mono',consolas,'Courier New',monospace\">epoch: 2     |  batch: 4000     |  average batch loss: 1.3308\n",
       "</pre>\n"
      ],
      "text/plain": [
       "epoch: 2     |  batch: 4000     |  average batch loss: 1.3308\n"
      ]
     },
     "metadata": {},
     "output_type": "display_data"
    },
    {
     "data": {
      "text/html": [
       "<pre style=\"white-space:pre;overflow-x:auto;line-height:normal;font-family:Menlo,'DejaVu Sans Mono',consolas,'Courier New',monospace\">epoch: 2     |  batch: 4500     |  average batch loss: 1.3286\n",
       "</pre>\n"
      ],
      "text/plain": [
       "epoch: 2     |  batch: 4500     |  average batch loss: 1.3286\n"
      ]
     },
     "metadata": {},
     "output_type": "display_data"
    },
    {
     "data": {
      "text/html": [
       "<pre style=\"white-space:pre;overflow-x:auto;line-height:normal;font-family:Menlo,'DejaVu Sans Mono',consolas,'Courier New',monospace\">epoch: 2     |  batch: 5000     |  average batch loss: 1.3254\n",
       "</pre>\n"
      ],
      "text/plain": [
       "epoch: 2     |  batch: 5000     |  average batch loss: 1.3254\n"
      ]
     },
     "metadata": {},
     "output_type": "display_data"
    },
    {
     "data": {
      "text/html": [
       "<pre style=\"white-space:pre;overflow-x:auto;line-height:normal;font-family:Menlo,'DejaVu Sans Mono',consolas,'Courier New',monospace\">epoch: 2     |  batch: 5500     |  average batch loss: 1.3204\n",
       "</pre>\n"
      ],
      "text/plain": [
       "epoch: 2     |  batch: 5500     |  average batch loss: 1.3204\n"
      ]
     },
     "metadata": {},
     "output_type": "display_data"
    },
    {
     "data": {
      "text/html": [
       "<pre style=\"white-space:pre;overflow-x:auto;line-height:normal;font-family:Menlo,'DejaVu Sans Mono',consolas,'Courier New',monospace\">epoch: 2     |  batch: 6000     |  average batch loss: 1.3191\n",
       "</pre>\n"
      ],
      "text/plain": [
       "epoch: 2     |  batch: 6000     |  average batch loss: 1.3191\n"
      ]
     },
     "metadata": {},
     "output_type": "display_data"
    },
    {
     "data": {
      "text/html": [
       "<pre style=\"white-space:pre;overflow-x:auto;line-height:normal;font-family:Menlo,'DejaVu Sans Mono',consolas,'Courier New',monospace\">epoch: 2     |  batch: 6500     |  average batch loss: 1.3152\n",
       "</pre>\n"
      ],
      "text/plain": [
       "epoch: 2     |  batch: 6500     |  average batch loss: 1.3152\n"
      ]
     },
     "metadata": {},
     "output_type": "display_data"
    },
    {
     "data": {
      "text/html": [
       "<pre style=\"white-space:pre;overflow-x:auto;line-height:normal;font-family:Menlo,'DejaVu Sans Mono',consolas,'Courier New',monospace\">epoch: 2     |  batch: 7000     |  average batch loss: 1.3148\n",
       "</pre>\n"
      ],
      "text/plain": [
       "epoch: 2     |  batch: 7000     |  average batch loss: 1.3148\n"
      ]
     },
     "metadata": {},
     "output_type": "display_data"
    },
    {
     "data": {
      "text/html": [
       "<pre style=\"white-space:pre;overflow-x:auto;line-height:normal;font-family:Menlo,'DejaVu Sans Mono',consolas,'Courier New',monospace\">epoch: 2     |  batch: 7500     |  average batch loss: 1.3116\n",
       "</pre>\n"
      ],
      "text/plain": [
       "epoch: 2     |  batch: 7500     |  average batch loss: 1.3116\n"
      ]
     },
     "metadata": {},
     "output_type": "display_data"
    },
    {
     "data": {
      "text/html": [
       "<pre style=\"white-space:pre;overflow-x:auto;line-height:normal;font-family:Menlo,'DejaVu Sans Mono',consolas,'Courier New',monospace\">epoch: 2     |  batch: 8000     |  average batch loss: 1.3080\n",
       "</pre>\n"
      ],
      "text/plain": [
       "epoch: 2     |  batch: 8000     |  average batch loss: 1.3080\n"
      ]
     },
     "metadata": {},
     "output_type": "display_data"
    },
    {
     "data": {
      "text/html": [
       "<pre style=\"white-space:pre;overflow-x:auto;line-height:normal;font-family:Menlo,'DejaVu Sans Mono',consolas,'Courier New',monospace\">epoch: 2     |  batch: 8500     |  average batch loss: 1.3080\n",
       "</pre>\n"
      ],
      "text/plain": [
       "epoch: 2     |  batch: 8500     |  average batch loss: 1.3080\n"
      ]
     },
     "metadata": {},
     "output_type": "display_data"
    },
    {
     "data": {
      "text/html": [
       "<pre style=\"white-space:pre;overflow-x:auto;line-height:normal;font-family:Menlo,'DejaVu Sans Mono',consolas,'Courier New',monospace\">***** epoch: 2 complete  -&gt;  average train loss: 1.3297 *****\n",
       "</pre>\n"
      ],
      "text/plain": [
       "***** epoch: 2 complete  ->  average train loss: 1.3297 *****\n"
      ]
     },
     "metadata": {},
     "output_type": "display_data"
    },
    {
     "data": {
      "text/html": [
       "<pre style=\"white-space:pre;overflow-x:auto;line-height:normal;font-family:Menlo,'DejaVu Sans Mono',consolas,'Courier New',monospace\">epoch: 3     |  batch: 500      |  average batch loss: 1.3052\n",
       "</pre>\n"
      ],
      "text/plain": [
       "epoch: 3     |  batch: 500      |  average batch loss: 1.3052\n"
      ]
     },
     "metadata": {},
     "output_type": "display_data"
    },
    {
     "data": {
      "text/html": [
       "<pre style=\"white-space:pre;overflow-x:auto;line-height:normal;font-family:Menlo,'DejaVu Sans Mono',consolas,'Courier New',monospace\">epoch: 3     |  batch: 1000     |  average batch loss: 1.3019\n",
       "</pre>\n"
      ],
      "text/plain": [
       "epoch: 3     |  batch: 1000     |  average batch loss: 1.3019\n"
      ]
     },
     "metadata": {},
     "output_type": "display_data"
    },
    {
     "data": {
      "text/html": [
       "<pre style=\"white-space:pre;overflow-x:auto;line-height:normal;font-family:Menlo,'DejaVu Sans Mono',consolas,'Courier New',monospace\">epoch: 3     |  batch: 1500     |  average batch loss: 1.2995\n",
       "</pre>\n"
      ],
      "text/plain": [
       "epoch: 3     |  batch: 1500     |  average batch loss: 1.2995\n"
      ]
     },
     "metadata": {},
     "output_type": "display_data"
    },
    {
     "data": {
      "text/html": [
       "<pre style=\"white-space:pre;overflow-x:auto;line-height:normal;font-family:Menlo,'DejaVu Sans Mono',consolas,'Courier New',monospace\">epoch: 3     |  batch: 2000     |  average batch loss: 1.2984\n",
       "</pre>\n"
      ],
      "text/plain": [
       "epoch: 3     |  batch: 2000     |  average batch loss: 1.2984\n"
      ]
     },
     "metadata": {},
     "output_type": "display_data"
    },
    {
     "data": {
      "text/html": [
       "<pre style=\"white-space:pre;overflow-x:auto;line-height:normal;font-family:Menlo,'DejaVu Sans Mono',consolas,'Courier New',monospace\">epoch: 3     |  batch: 2500     |  average batch loss: 1.2960\n",
       "</pre>\n"
      ],
      "text/plain": [
       "epoch: 3     |  batch: 2500     |  average batch loss: 1.2960\n"
      ]
     },
     "metadata": {},
     "output_type": "display_data"
    },
    {
     "data": {
      "text/html": [
       "<pre style=\"white-space:pre;overflow-x:auto;line-height:normal;font-family:Menlo,'DejaVu Sans Mono',consolas,'Courier New',monospace\">epoch: 3     |  batch: 3000     |  average batch loss: 1.2943\n",
       "</pre>\n"
      ],
      "text/plain": [
       "epoch: 3     |  batch: 3000     |  average batch loss: 1.2943\n"
      ]
     },
     "metadata": {},
     "output_type": "display_data"
    },
    {
     "data": {
      "text/html": [
       "<pre style=\"white-space:pre;overflow-x:auto;line-height:normal;font-family:Menlo,'DejaVu Sans Mono',consolas,'Courier New',monospace\">epoch: 3     |  batch: 3500     |  average batch loss: 1.2927\n",
       "</pre>\n"
      ],
      "text/plain": [
       "epoch: 3     |  batch: 3500     |  average batch loss: 1.2927\n"
      ]
     },
     "metadata": {},
     "output_type": "display_data"
    },
    {
     "data": {
      "text/html": [
       "<pre style=\"white-space:pre;overflow-x:auto;line-height:normal;font-family:Menlo,'DejaVu Sans Mono',consolas,'Courier New',monospace\">epoch: 3     |  batch: 4000     |  average batch loss: 1.2925\n",
       "</pre>\n"
      ],
      "text/plain": [
       "epoch: 3     |  batch: 4000     |  average batch loss: 1.2925\n"
      ]
     },
     "metadata": {},
     "output_type": "display_data"
    },
    {
     "data": {
      "text/html": [
       "<pre style=\"white-space:pre;overflow-x:auto;line-height:normal;font-family:Menlo,'DejaVu Sans Mono',consolas,'Courier New',monospace\">epoch: 3     |  batch: 4500     |  average batch loss: 1.2895\n",
       "</pre>\n"
      ],
      "text/plain": [
       "epoch: 3     |  batch: 4500     |  average batch loss: 1.2895\n"
      ]
     },
     "metadata": {},
     "output_type": "display_data"
    },
    {
     "data": {
      "text/html": [
       "<pre style=\"white-space:pre;overflow-x:auto;line-height:normal;font-family:Menlo,'DejaVu Sans Mono',consolas,'Courier New',monospace\">epoch: 3     |  batch: 5000     |  average batch loss: 1.2890\n",
       "</pre>\n"
      ],
      "text/plain": [
       "epoch: 3     |  batch: 5000     |  average batch loss: 1.2890\n"
      ]
     },
     "metadata": {},
     "output_type": "display_data"
    },
    {
     "data": {
      "text/html": [
       "<pre style=\"white-space:pre;overflow-x:auto;line-height:normal;font-family:Menlo,'DejaVu Sans Mono',consolas,'Courier New',monospace\">epoch: 3     |  batch: 5500     |  average batch loss: 1.2869\n",
       "</pre>\n"
      ],
      "text/plain": [
       "epoch: 3     |  batch: 5500     |  average batch loss: 1.2869\n"
      ]
     },
     "metadata": {},
     "output_type": "display_data"
    },
    {
     "data": {
      "text/html": [
       "<pre style=\"white-space:pre;overflow-x:auto;line-height:normal;font-family:Menlo,'DejaVu Sans Mono',consolas,'Courier New',monospace\">epoch: 3     |  batch: 6000     |  average batch loss: 1.2860\n",
       "</pre>\n"
      ],
      "text/plain": [
       "epoch: 3     |  batch: 6000     |  average batch loss: 1.2860\n"
      ]
     },
     "metadata": {},
     "output_type": "display_data"
    },
    {
     "data": {
      "text/html": [
       "<pre style=\"white-space:pre;overflow-x:auto;line-height:normal;font-family:Menlo,'DejaVu Sans Mono',consolas,'Courier New',monospace\">epoch: 3     |  batch: 6500     |  average batch loss: 1.2836\n",
       "</pre>\n"
      ],
      "text/plain": [
       "epoch: 3     |  batch: 6500     |  average batch loss: 1.2836\n"
      ]
     },
     "metadata": {},
     "output_type": "display_data"
    },
    {
     "data": {
      "text/html": [
       "<pre style=\"white-space:pre;overflow-x:auto;line-height:normal;font-family:Menlo,'DejaVu Sans Mono',consolas,'Courier New',monospace\">epoch: 3     |  batch: 7000     |  average batch loss: 1.2825\n",
       "</pre>\n"
      ],
      "text/plain": [
       "epoch: 3     |  batch: 7000     |  average batch loss: 1.2825\n"
      ]
     },
     "metadata": {},
     "output_type": "display_data"
    },
    {
     "data": {
      "text/html": [
       "<pre style=\"white-space:pre;overflow-x:auto;line-height:normal;font-family:Menlo,'DejaVu Sans Mono',consolas,'Courier New',monospace\">epoch: 3     |  batch: 7500     |  average batch loss: 1.2831\n",
       "</pre>\n"
      ],
      "text/plain": [
       "epoch: 3     |  batch: 7500     |  average batch loss: 1.2831\n"
      ]
     },
     "metadata": {},
     "output_type": "display_data"
    },
    {
     "data": {
      "text/html": [
       "<pre style=\"white-space:pre;overflow-x:auto;line-height:normal;font-family:Menlo,'DejaVu Sans Mono',consolas,'Courier New',monospace\">epoch: 3     |  batch: 8000     |  average batch loss: 1.2804\n",
       "</pre>\n"
      ],
      "text/plain": [
       "epoch: 3     |  batch: 8000     |  average batch loss: 1.2804\n"
      ]
     },
     "metadata": {},
     "output_type": "display_data"
    },
    {
     "data": {
      "text/html": [
       "<pre style=\"white-space:pre;overflow-x:auto;line-height:normal;font-family:Menlo,'DejaVu Sans Mono',consolas,'Courier New',monospace\">epoch: 3     |  batch: 8500     |  average batch loss: 1.2806\n",
       "</pre>\n"
      ],
      "text/plain": [
       "epoch: 3     |  batch: 8500     |  average batch loss: 1.2806\n"
      ]
     },
     "metadata": {},
     "output_type": "display_data"
    },
    {
     "data": {
      "text/html": [
       "<pre style=\"white-space:pre;overflow-x:auto;line-height:normal;font-family:Menlo,'DejaVu Sans Mono',consolas,'Courier New',monospace\">***** epoch: 3 complete  -&gt;  average train loss: 1.2904 *****\n",
       "</pre>\n"
      ],
      "text/plain": [
       "***** epoch: 3 complete  ->  average train loss: 1.2904 *****\n"
      ]
     },
     "metadata": {},
     "output_type": "display_data"
    },
    {
     "data": {
      "text/html": [
       "<pre style=\"white-space:pre;overflow-x:auto;line-height:normal;font-family:Menlo,'DejaVu Sans Mono',consolas,'Courier New',monospace\">epoch: 4     |  batch: 500      |  average batch loss: 1.2792\n",
       "</pre>\n"
      ],
      "text/plain": [
       "epoch: 4     |  batch: 500      |  average batch loss: 1.2792\n"
      ]
     },
     "metadata": {},
     "output_type": "display_data"
    },
    {
     "data": {
      "text/html": [
       "<pre style=\"white-space:pre;overflow-x:auto;line-height:normal;font-family:Menlo,'DejaVu Sans Mono',consolas,'Courier New',monospace\">epoch: 4     |  batch: 1000     |  average batch loss: 1.2763\n",
       "</pre>\n"
      ],
      "text/plain": [
       "epoch: 4     |  batch: 1000     |  average batch loss: 1.2763\n"
      ]
     },
     "metadata": {},
     "output_type": "display_data"
    },
    {
     "data": {
      "text/html": [
       "<pre style=\"white-space:pre;overflow-x:auto;line-height:normal;font-family:Menlo,'DejaVu Sans Mono',consolas,'Courier New',monospace\">epoch: 4     |  batch: 1500     |  average batch loss: 1.2730\n",
       "</pre>\n"
      ],
      "text/plain": [
       "epoch: 4     |  batch: 1500     |  average batch loss: 1.2730\n"
      ]
     },
     "metadata": {},
     "output_type": "display_data"
    },
    {
     "data": {
      "text/html": [
       "<pre style=\"white-space:pre;overflow-x:auto;line-height:normal;font-family:Menlo,'DejaVu Sans Mono',consolas,'Courier New',monospace\">epoch: 4     |  batch: 2000     |  average batch loss: 1.2744\n",
       "</pre>\n"
      ],
      "text/plain": [
       "epoch: 4     |  batch: 2000     |  average batch loss: 1.2744\n"
      ]
     },
     "metadata": {},
     "output_type": "display_data"
    },
    {
     "data": {
      "text/html": [
       "<pre style=\"white-space:pre;overflow-x:auto;line-height:normal;font-family:Menlo,'DejaVu Sans Mono',consolas,'Courier New',monospace\">epoch: 4     |  batch: 2500     |  average batch loss: 1.2741\n",
       "</pre>\n"
      ],
      "text/plain": [
       "epoch: 4     |  batch: 2500     |  average batch loss: 1.2741\n"
      ]
     },
     "metadata": {},
     "output_type": "display_data"
    },
    {
     "data": {
      "text/html": [
       "<pre style=\"white-space:pre;overflow-x:auto;line-height:normal;font-family:Menlo,'DejaVu Sans Mono',consolas,'Courier New',monospace\">epoch: 4     |  batch: 3000     |  average batch loss: 1.2722\n",
       "</pre>\n"
      ],
      "text/plain": [
       "epoch: 4     |  batch: 3000     |  average batch loss: 1.2722\n"
      ]
     },
     "metadata": {},
     "output_type": "display_data"
    },
    {
     "data": {
      "text/html": [
       "<pre style=\"white-space:pre;overflow-x:auto;line-height:normal;font-family:Menlo,'DejaVu Sans Mono',consolas,'Courier New',monospace\">epoch: 4     |  batch: 3500     |  average batch loss: 1.2705\n",
       "</pre>\n"
      ],
      "text/plain": [
       "epoch: 4     |  batch: 3500     |  average batch loss: 1.2705\n"
      ]
     },
     "metadata": {},
     "output_type": "display_data"
    },
    {
     "data": {
      "text/html": [
       "<pre style=\"white-space:pre;overflow-x:auto;line-height:normal;font-family:Menlo,'DejaVu Sans Mono',consolas,'Courier New',monospace\">epoch: 4     |  batch: 4000     |  average batch loss: 1.2700\n",
       "</pre>\n"
      ],
      "text/plain": [
       "epoch: 4     |  batch: 4000     |  average batch loss: 1.2700\n"
      ]
     },
     "metadata": {},
     "output_type": "display_data"
    },
    {
     "data": {
      "text/html": [
       "<pre style=\"white-space:pre;overflow-x:auto;line-height:normal;font-family:Menlo,'DejaVu Sans Mono',consolas,'Courier New',monospace\">epoch: 4     |  batch: 4500     |  average batch loss: 1.2699\n",
       "</pre>\n"
      ],
      "text/plain": [
       "epoch: 4     |  batch: 4500     |  average batch loss: 1.2699\n"
      ]
     },
     "metadata": {},
     "output_type": "display_data"
    },
    {
     "data": {
      "text/html": [
       "<pre style=\"white-space:pre;overflow-x:auto;line-height:normal;font-family:Menlo,'DejaVu Sans Mono',consolas,'Courier New',monospace\">epoch: 4     |  batch: 5000     |  average batch loss: 1.2677\n",
       "</pre>\n"
      ],
      "text/plain": [
       "epoch: 4     |  batch: 5000     |  average batch loss: 1.2677\n"
      ]
     },
     "metadata": {},
     "output_type": "display_data"
    },
    {
     "data": {
      "text/html": [
       "<pre style=\"white-space:pre;overflow-x:auto;line-height:normal;font-family:Menlo,'DejaVu Sans Mono',consolas,'Courier New',monospace\">epoch: 4     |  batch: 5500     |  average batch loss: 1.2676\n",
       "</pre>\n"
      ],
      "text/plain": [
       "epoch: 4     |  batch: 5500     |  average batch loss: 1.2676\n"
      ]
     },
     "metadata": {},
     "output_type": "display_data"
    },
    {
     "data": {
      "text/html": [
       "<pre style=\"white-space:pre;overflow-x:auto;line-height:normal;font-family:Menlo,'DejaVu Sans Mono',consolas,'Courier New',monospace\">epoch: 4     |  batch: 6000     |  average batch loss: 1.2672\n",
       "</pre>\n"
      ],
      "text/plain": [
       "epoch: 4     |  batch: 6000     |  average batch loss: 1.2672\n"
      ]
     },
     "metadata": {},
     "output_type": "display_data"
    },
    {
     "data": {
      "text/html": [
       "<pre style=\"white-space:pre;overflow-x:auto;line-height:normal;font-family:Menlo,'DejaVu Sans Mono',consolas,'Courier New',monospace\">epoch: 4     |  batch: 6500     |  average batch loss: 1.2650\n",
       "</pre>\n"
      ],
      "text/plain": [
       "epoch: 4     |  batch: 6500     |  average batch loss: 1.2650\n"
      ]
     },
     "metadata": {},
     "output_type": "display_data"
    },
    {
     "data": {
      "text/html": [
       "<pre style=\"white-space:pre;overflow-x:auto;line-height:normal;font-family:Menlo,'DejaVu Sans Mono',consolas,'Courier New',monospace\">epoch: 4     |  batch: 7000     |  average batch loss: 1.2643\n",
       "</pre>\n"
      ],
      "text/plain": [
       "epoch: 4     |  batch: 7000     |  average batch loss: 1.2643\n"
      ]
     },
     "metadata": {},
     "output_type": "display_data"
    },
    {
     "data": {
      "text/html": [
       "<pre style=\"white-space:pre;overflow-x:auto;line-height:normal;font-family:Menlo,'DejaVu Sans Mono',consolas,'Courier New',monospace\">epoch: 4     |  batch: 7500     |  average batch loss: 1.2631\n",
       "</pre>\n"
      ],
      "text/plain": [
       "epoch: 4     |  batch: 7500     |  average batch loss: 1.2631\n"
      ]
     },
     "metadata": {},
     "output_type": "display_data"
    },
    {
     "data": {
      "text/html": [
       "<pre style=\"white-space:pre;overflow-x:auto;line-height:normal;font-family:Menlo,'DejaVu Sans Mono',consolas,'Courier New',monospace\">epoch: 4     |  batch: 8000     |  average batch loss: 1.2633\n",
       "</pre>\n"
      ],
      "text/plain": [
       "epoch: 4     |  batch: 8000     |  average batch loss: 1.2633\n"
      ]
     },
     "metadata": {},
     "output_type": "display_data"
    },
    {
     "data": {
      "text/html": [
       "<pre style=\"white-space:pre;overflow-x:auto;line-height:normal;font-family:Menlo,'DejaVu Sans Mono',consolas,'Courier New',monospace\">epoch: 4     |  batch: 8500     |  average batch loss: 1.2626\n",
       "</pre>\n"
      ],
      "text/plain": [
       "epoch: 4     |  batch: 8500     |  average batch loss: 1.2626\n"
      ]
     },
     "metadata": {},
     "output_type": "display_data"
    },
    {
     "data": {
      "text/html": [
       "<pre style=\"white-space:pre;overflow-x:auto;line-height:normal;font-family:Menlo,'DejaVu Sans Mono',consolas,'Courier New',monospace\">***** epoch: 4 complete  -&gt;  average train loss: 1.2692 *****\n",
       "</pre>\n"
      ],
      "text/plain": [
       "***** epoch: 4 complete  ->  average train loss: 1.2692 *****\n"
      ]
     },
     "metadata": {},
     "output_type": "display_data"
    },
    {
     "data": {
      "text/html": [
       "<pre style=\"white-space:pre;overflow-x:auto;line-height:normal;font-family:Menlo,'DejaVu Sans Mono',consolas,'Courier New',monospace\">epoch: 5     |  batch: 500      |  average batch loss: 1.2640\n",
       "</pre>\n"
      ],
      "text/plain": [
       "epoch: 5     |  batch: 500      |  average batch loss: 1.2640\n"
      ]
     },
     "metadata": {},
     "output_type": "display_data"
    },
    {
     "data": {
      "text/html": [
       "<pre style=\"white-space:pre;overflow-x:auto;line-height:normal;font-family:Menlo,'DejaVu Sans Mono',consolas,'Courier New',monospace\">epoch: 5     |  batch: 1000     |  average batch loss: 1.2588\n",
       "</pre>\n"
      ],
      "text/plain": [
       "epoch: 5     |  batch: 1000     |  average batch loss: 1.2588\n"
      ]
     },
     "metadata": {},
     "output_type": "display_data"
    },
    {
     "data": {
      "text/html": [
       "<pre style=\"white-space:pre;overflow-x:auto;line-height:normal;font-family:Menlo,'DejaVu Sans Mono',consolas,'Courier New',monospace\">epoch: 5     |  batch: 1500     |  average batch loss: 1.2589\n",
       "</pre>\n"
      ],
      "text/plain": [
       "epoch: 5     |  batch: 1500     |  average batch loss: 1.2589\n"
      ]
     },
     "metadata": {},
     "output_type": "display_data"
    },
    {
     "data": {
      "text/html": [
       "<pre style=\"white-space:pre;overflow-x:auto;line-height:normal;font-family:Menlo,'DejaVu Sans Mono',consolas,'Courier New',monospace\">epoch: 5     |  batch: 2000     |  average batch loss: 1.2590\n",
       "</pre>\n"
      ],
      "text/plain": [
       "epoch: 5     |  batch: 2000     |  average batch loss: 1.2590\n"
      ]
     },
     "metadata": {},
     "output_type": "display_data"
    },
    {
     "data": {
      "text/html": [
       "<pre style=\"white-space:pre;overflow-x:auto;line-height:normal;font-family:Menlo,'DejaVu Sans Mono',consolas,'Courier New',monospace\">epoch: 5     |  batch: 2500     |  average batch loss: 1.2572\n",
       "</pre>\n"
      ],
      "text/plain": [
       "epoch: 5     |  batch: 2500     |  average batch loss: 1.2572\n"
      ]
     },
     "metadata": {},
     "output_type": "display_data"
    },
    {
     "data": {
      "text/html": [
       "<pre style=\"white-space:pre;overflow-x:auto;line-height:normal;font-family:Menlo,'DejaVu Sans Mono',consolas,'Courier New',monospace\">epoch: 5     |  batch: 3000     |  average batch loss: 1.2574\n",
       "</pre>\n"
      ],
      "text/plain": [
       "epoch: 5     |  batch: 3000     |  average batch loss: 1.2574\n"
      ]
     },
     "metadata": {},
     "output_type": "display_data"
    },
    {
     "data": {
      "text/html": [
       "<pre style=\"white-space:pre;overflow-x:auto;line-height:normal;font-family:Menlo,'DejaVu Sans Mono',consolas,'Courier New',monospace\">epoch: 5     |  batch: 3500     |  average batch loss: 1.2564\n",
       "</pre>\n"
      ],
      "text/plain": [
       "epoch: 5     |  batch: 3500     |  average batch loss: 1.2564\n"
      ]
     },
     "metadata": {},
     "output_type": "display_data"
    },
    {
     "data": {
      "text/html": [
       "<pre style=\"white-space:pre;overflow-x:auto;line-height:normal;font-family:Menlo,'DejaVu Sans Mono',consolas,'Courier New',monospace\">epoch: 5     |  batch: 4000     |  average batch loss: 1.2564\n",
       "</pre>\n"
      ],
      "text/plain": [
       "epoch: 5     |  batch: 4000     |  average batch loss: 1.2564\n"
      ]
     },
     "metadata": {},
     "output_type": "display_data"
    },
    {
     "data": {
      "text/html": [
       "<pre style=\"white-space:pre;overflow-x:auto;line-height:normal;font-family:Menlo,'DejaVu Sans Mono',consolas,'Courier New',monospace\">epoch: 5     |  batch: 4500     |  average batch loss: 1.2547\n",
       "</pre>\n"
      ],
      "text/plain": [
       "epoch: 5     |  batch: 4500     |  average batch loss: 1.2547\n"
      ]
     },
     "metadata": {},
     "output_type": "display_data"
    },
    {
     "data": {
      "text/html": [
       "<pre style=\"white-space:pre;overflow-x:auto;line-height:normal;font-family:Menlo,'DejaVu Sans Mono',consolas,'Courier New',monospace\">epoch: 5     |  batch: 5000     |  average batch loss: 1.2558\n",
       "</pre>\n"
      ],
      "text/plain": [
       "epoch: 5     |  batch: 5000     |  average batch loss: 1.2558\n"
      ]
     },
     "metadata": {},
     "output_type": "display_data"
    },
    {
     "data": {
      "text/html": [
       "<pre style=\"white-space:pre;overflow-x:auto;line-height:normal;font-family:Menlo,'DejaVu Sans Mono',consolas,'Courier New',monospace\">epoch: 5     |  batch: 5500     |  average batch loss: 1.2546\n",
       "</pre>\n"
      ],
      "text/plain": [
       "epoch: 5     |  batch: 5500     |  average batch loss: 1.2546\n"
      ]
     },
     "metadata": {},
     "output_type": "display_data"
    },
    {
     "data": {
      "text/html": [
       "<pre style=\"white-space:pre;overflow-x:auto;line-height:normal;font-family:Menlo,'DejaVu Sans Mono',consolas,'Courier New',monospace\">epoch: 5     |  batch: 6000     |  average batch loss: 1.2535\n",
       "</pre>\n"
      ],
      "text/plain": [
       "epoch: 5     |  batch: 6000     |  average batch loss: 1.2535\n"
      ]
     },
     "metadata": {},
     "output_type": "display_data"
    },
    {
     "data": {
      "text/html": [
       "<pre style=\"white-space:pre;overflow-x:auto;line-height:normal;font-family:Menlo,'DejaVu Sans Mono',consolas,'Courier New',monospace\">epoch: 5     |  batch: 6500     |  average batch loss: 1.2518\n",
       "</pre>\n"
      ],
      "text/plain": [
       "epoch: 5     |  batch: 6500     |  average batch loss: 1.2518\n"
      ]
     },
     "metadata": {},
     "output_type": "display_data"
    },
    {
     "data": {
      "text/html": [
       "<pre style=\"white-space:pre;overflow-x:auto;line-height:normal;font-family:Menlo,'DejaVu Sans Mono',consolas,'Courier New',monospace\">epoch: 5     |  batch: 7000     |  average batch loss: 1.2535\n",
       "</pre>\n"
      ],
      "text/plain": [
       "epoch: 5     |  batch: 7000     |  average batch loss: 1.2535\n"
      ]
     },
     "metadata": {},
     "output_type": "display_data"
    },
    {
     "data": {
      "text/html": [
       "<pre style=\"white-space:pre;overflow-x:auto;line-height:normal;font-family:Menlo,'DejaVu Sans Mono',consolas,'Courier New',monospace\">epoch: 5     |  batch: 7500     |  average batch loss: 1.2511\n",
       "</pre>\n"
      ],
      "text/plain": [
       "epoch: 5     |  batch: 7500     |  average batch loss: 1.2511\n"
      ]
     },
     "metadata": {},
     "output_type": "display_data"
    },
    {
     "data": {
      "text/html": [
       "<pre style=\"white-space:pre;overflow-x:auto;line-height:normal;font-family:Menlo,'DejaVu Sans Mono',consolas,'Courier New',monospace\">epoch: 5     |  batch: 8000     |  average batch loss: 1.2504\n",
       "</pre>\n"
      ],
      "text/plain": [
       "epoch: 5     |  batch: 8000     |  average batch loss: 1.2504\n"
      ]
     },
     "metadata": {},
     "output_type": "display_data"
    },
    {
     "data": {
      "text/html": [
       "<pre style=\"white-space:pre;overflow-x:auto;line-height:normal;font-family:Menlo,'DejaVu Sans Mono',consolas,'Courier New',monospace\">epoch: 5     |  batch: 8500     |  average batch loss: 1.2510\n",
       "</pre>\n"
      ],
      "text/plain": [
       "epoch: 5     |  batch: 8500     |  average batch loss: 1.2510\n"
      ]
     },
     "metadata": {},
     "output_type": "display_data"
    },
    {
     "data": {
      "text/html": [
       "<pre style=\"white-space:pre;overflow-x:auto;line-height:normal;font-family:Menlo,'DejaVu Sans Mono',consolas,'Courier New',monospace\">***** epoch: 5 complete  -&gt;  average train loss: 1.2554 *****\n",
       "</pre>\n"
      ],
      "text/plain": [
       "***** epoch: 5 complete  ->  average train loss: 1.2554 *****\n"
      ]
     },
     "metadata": {},
     "output_type": "display_data"
    },
    {
     "data": {
      "text/html": [
       "<pre style=\"white-space:pre;overflow-x:auto;line-height:normal;font-family:Menlo,'DejaVu Sans Mono',consolas,'Courier New',monospace\"></pre>\n"
      ],
      "text/plain": []
     },
     "metadata": {},
     "output_type": "display_data"
    },
    {
     "data": {
      "text/html": [
       "<pre style=\"white-space:pre;overflow-x:auto;line-height:normal;font-family:Menlo,'DejaVu Sans Mono',consolas,'Courier New',monospace\">\n",
       "</pre>\n"
      ],
      "text/plain": [
       "\n"
      ]
     },
     "metadata": {},
     "output_type": "display_data"
    }
   ],
   "source": [
    "import genet\n",
    "import torch\n",
    "from genet.util.text_character_tokenizer import TextCharacterTokenizer, TextCharacterDataset\n",
    "from genet.util.config import TrainConfigure, ModelConfigure\n",
    "from genet import Trainer\n",
    "\n",
    "corpus_file_path = \"input.txt\"\n",
    "tokenizer = TextCharacterTokenizer.from_file(corpus_file_path)\n",
    "\n",
    "config = TrainConfigure(\n",
    "    vocab_size=tokenizer.vocab_size,\n",
    "    context_length=128,\n",
    "    embedding_size=128,\n",
    "    num_epochs=5,\n",
    "    batch_size=128,\n",
    "    num_heads=4,\n",
    "    num_blocks=4,\n",
    ")\n",
    "\n",
    "\n",
    "\n",
    "device=genet.util.get_auto_device()\n",
    "model=genet.GPT(config)\n",
    "\n",
    "# config.eval_interval\n",
    "\n",
    "# # from genet.components.attention import CasualAttentionBlock\n",
    "# # model=CasualAttentionBlock(config).to(device)\n",
    "# context = torch.zeros((1, 1), dtype=torch.long, device=device)\n",
    "# model(context)[0].shape\n",
    "\n",
    "# print(decode(model.generate(context, max_new_tokens=500)[0].tolist()))\n",
    "\n",
    "dataset = TextCharacterDataset.from_file(corpus_file_path, tokenizer.vocabulary, config.context_length)\n",
    "trainer = Trainer(config)\n",
    "trainer.train(dataset)"
   ]
  },
  {
   "cell_type": "code",
   "execution_count": 9,
   "metadata": {},
   "outputs": [
    {
     "name": "stdout",
     "output_type": "stream",
     "text": [
      "To be, or not to be: that is the question.\n",
      "\n",
      "BRAKENBURY:\n",
      "Alas, come, these strokes\n",
      "By the dog blood which way the stears of charity\n",
      "The hart will I be with a foe hand for\n",
      "As put on my lordship?\n",
      "\n",
      "LEONTES:\n",
      "What, sweet sir! Let me have no thing,\n",
      "And old drinking of name was never parent,\n",
      "To word to my son, nor with the clear\n",
      "Is the virtue to be little'd Roman.\n",
      "\n",
      "First Murderer:\n",
      "O, for what of the grandam? Ratcliff you have\n",
      "Hast not a half-moan at your advice, poor power,\n",
      "For I may quarrel with words Lord Cobham,\n",
      "Stain'd succession let the strongs shall child now\n",
      "As many ase divided to use the ettern tyrannous wives,\n",
      "As now to were affairs to hell,\n",
      "And therefore a loving shall prove me;\n",
      "And since thy ten it shall bebaute comfort.\n",
      "\n",
      "ARCHIDAMUS:\n",
      "More soil adventure we stay had a craved?\n",
      "\n",
      "GLOUCESTER:\n",
      "If an old Montague, friend stay to thee.\n",
      "\n",
      "Lord Marshal:\n",
      "I can make us, Prince, noble Aumerle;\n",
      "In thou please thyself to be an humour present\n",
      "Than all the jointed but hollowing\n",
      "my customastic me! What, you'll quite it?\n",
      "\n",
      "GLOUCESTER:\n",
      "No, that I 'll kill him, Brittany his news!\n",
      "\n",
      "QUEEN MARGARET:\n",
      "O, but lost.\n",
      "\n",
      "QUEEN ELIZABETH:\n",
      "Why, with our sister?\n",
      "\n",
      "QUEEN ELIZABETH:\n",
      "Banish my abittered their haunts, and does scurve\n",
      "And he deputy, which for scrupture.\n",
      "\n",
      "CATESBY:\n",
      "Convey them, my liege, sir; I have well:\n",
      "Call them, my lords, my lord.\n",
      "\n",
      "GLOUCESTER:\n",
      "How have you told me to see your honour!\n",
      "\n",
      "LOVEL:\n",
      "So shall that see your capstant little fair\n",
      "On Is wek, and have liwful yield greeting.\n",
      "\n",
      "WARWICK:\n",
      "I pray you, in good night, stay so you did to him\n",
      "Inform'd most be inhabilitation in your hands!\n",
      "\n",
      "GLOUCESTER:\n",
      "If you believe something tongues even your\n",
      "And good trials give, in me would think with thee.\n",
      "Ah word my father dear,\n",
      "And now here to mine humour scope of enemy.\n",
      "\n",
      "SLY:\n",
      "My grave lord, or by my mother, my lord hath not with\n",
      "the house; and the good divided for compound\n",
      "To the\n",
      "suppose silenteth had rested who had said and callice.\n",
      "\n",
      "HERMIONE:\n",
      "Why father,\n",
      "Be a watched to the mariner of my 'gain;\n",
      "Who can then short he was changed in his sweet!\n",
      "If had breathed with within my tribe, do should\n",
      "Erch one thy kingdom's; which I have none,\n",
      "As we discoured, or it names of from no man.\n",
      "\n",
      "DUKE VINCENTIO:\n",
      "O how goes the\n",
      "purpose it, which he are the Mornily! ah, bid him,\n",
      "Where Judam Nest thou dost slaughter'd hand,\n",
      "And will from you, curtesy these widows with'd\n",
      "The strengths withal threatening are his blood;\n",
      "But likelihood for a ground, for of the senate\n",
      "A loving to draw my reason\n",
      "And sight of winds? you will not fear, sir:\n",
      "Good fear, for this apprehend before.\n",
      "\n",
      "BAPTISTA:\n",
      "Wilful, man, that bid vengeance something side, I\n",
      "Hear of Polixenes nothing to slavet blush'd.\n",
      "\n",
      "BAPTISTA:\n",
      "Good father, my lord; to have the sound of\n",
      "thy pesence, when I am beloved to thy father\n",
      "By all of doubtome.\n",
      "\n",
      "BIONDELLO:\n",
      "We were not scornt: I hope, sir, the many knees\n",
      "and something in the zarrimales of their is quen\n",
      "officed in thy feece, if have match'd and separe\n",
      "A ever I will come, cannot lead the cause.\n",
      "\n",
      "VOLUMNIA:\n",
      "O, dinnerately.\n",
      "He madam: it is even heaven comes to find thy self!\n",
      "\n",
      "VOLUMNIA:\n",
      "Well, so; if any for one that is the end to sleep\n",
      "Should have stops been us!\n",
      "\n",
      "ANTONIO:\n",
      "I beseech you, I would not, my brother Romeo\n",
      "shall not he been before taste fire-drinken--\n",
      "\n",
      "VOLUMNIA:\n",
      "O, hath deceived; and, as I do I.\n",
      "\n",
      "VALERIA:\n",
      "So, you'll have been satisfied: if the jest God,\n",
      "For shall say I show me for Romeo,\n",
      "And poor Paris hath read my country's and\n",
      "Or soundly slaves proves like a mat,\n",
      "For thoughts the one fairst sendants, I have more,\n",
      "Than more as for this deed temples eyes,\n",
      "Of Sunday to tapestry say, it must be seen\n",
      "For those fatle motion lives me to-day.\n",
      "Now for all hours slew as his bon.\n",
      "\n",
      "CAPULET:\n",
      "Be so ruled and eat: yet doves and proclaim\n",
      "Gentlemen, is justice! Sound must they determined,\n",
      "Or love God granted hastic dearly by him down\n",
      "Like vent as my censel did she give thee whipped\n",
      "With rogues read fair,\n",
      "If country out, you are holy him oft thou head!\n",
      "\n",
      "VINCENTIO:\n",
      "He'll affright him.\n",
      "\n",
      "TRANIO:\n",
      "Nay, by him, mistress,--\n",
      "\n",
      "LUCENTIO:\n",
      "Your elder: you have your power.\n",
      "\n",
      "PETRUCHIO:\n",
      "\n",
      "SirrahPIO:\n",
      "I'll make you a matter, sir, I have fair, and\n",
      "stand person'd; Lewis to still I not, nor no harm.\n",
      "\n",
      "KATHARINA:\n",
      "For I am light and you spit; I fees thee will be\n",
      "Disposting of a truth: the heavens and spring\n",
      "Thy name and rog'd o'er in the infamy.\n",
      "\n",
      "GLOUCESTER:\n",
      "As I ofdly hopely as you are well?\n",
      "\n",
      "KING EDWARD IV:\n",
      "O, that's never was about as I came,\n",
      "As made cloudyful all dread even weary yet,\n",
      "I before you can be reason and how my\n",
      "heart to piece or offence and we are worth;\n",
      "Or for 'tis death\n",
      "She must be as first preparated pass'd upon horse;\n",
      "For we were never which time to a favour's good\n",
      "But here follow, that we may revenge not.\n",
      "\n",
      "MENENIUS:\n",
      "Very poor comfortunates--when,\n",
      "Being we are incensed hire, and affected\n",
      "Cannot be so fresh nor he drawn, we'll I will; buzze\n",
      "Of him, proud Aufidius,\n",
      "That to what estate shall as mine half\n",
      "As if the king's peace! that Aufidius is like\n",
      "To bring them rook to thee? and O, what love comes,\n",
      "How to have I therein case us a\n"
     ]
    }
   ],
   "source": [
    "\n",
    "model = genet.GPT.from_checkpoint(\"checkpoints/best_model.ckpt\")\n",
    "\n",
    "context = \"To be, or not to be: that is the question.\"\n",
    "\n",
    "generation = model.generate(tokenizer.encode(context), 5000, do_sample=True)\n",
    "\n",
    "print(tokenizer.decode(generation.flatten().tolist()))\n",
    "# with open(\"generated-shakespeare.txt\", \"w\") as f:\n",
    "#     f.write(tokenizer.decode(generation.flatten().tolist()))\n"
   ]
  },
  {
   "cell_type": "markdown",
   "metadata": {},
   "source": []
  },
  {
   "cell_type": "code",
   "execution_count": null,
   "metadata": {},
   "outputs": [],
   "source": [
    "from pathlib import Path\n",
    "from typing import Optional, Union\n",
    "# from genet.util.text_character_tokenizer import TextCharacterTokenizer, TextCharacterDataset\n",
    "\n",
    "from pydantic import BaseModel, model_validator\n",
    "class ModelConfigure(BaseModel):\n",
    "    vocab_size: int\n",
    "    context_length: int = 64\n",
    "    embedding_size: int = 32\n",
    "    num_heads: int = 4\n",
    "    num_blocks: int = 4\n",
    "    attn_dropout_prob: float = 0.1\n",
    "    embed_dropout_prob: float = 0.1\n",
    "    device: str = \"auto\"\n",
    "\n",
    "\n",
    "class TrainConfigure(ModelConfigure):\n",
    "    batch_size: int = 32\n",
    "    learning_rate: float = 5e-4\n",
    "    batches_per_eval: int = 100\n",
    "    eval_interval: int = 500\n",
    "    num_epochs: int = 3\n",
    "    checkpoint_path: Union[str, Path] = Path(\"checkpoints\")\n",
    "    save_all_checkpoints: bool = False\n",
    "    overwrite_checkpoints: bool = True\n",
    "\n",
    "    @property\n",
    "    def model_config(self):\n",
    "        return ModelConfigure()\n",
    "\n",
    "config = TrainConfigure(\n",
    "    vocab_size=65,\n",
    "    context_length=128,\n",
    "    embedding_size=128,\n",
    "    num_epochs=5,\n",
    "    batch_size=32,\n",
    "    num_heads=4,\n",
    "    num_blocks=4,\n",
    ")\n",
    "# config.__dict__\n"
   ]
  },
  {
   "cell_type": "code",
   "execution_count": null,
   "metadata": {},
   "outputs": [],
   "source": [
    "class TrainConfigure(BaseModel):\n",
    "    batch_size: int = 32\n",
    "    learning_rate: float = 5e-4\n",
    "    batches_per_eval: int = 100\n",
    "    eval_interval: int = 500\n",
    "    num_epochs: int = 3\n",
    "    checkpoint_path: Union[str, Path] = Path(\"checkpoints\")\n",
    "    save_all_checkpoints: bool = False\n",
    "    overwrite_checkpoints: bool = True\n",
    "\n",
    "    @property\n",
    "    def model_config(self):\n",
    "        return 1"
   ]
  },
  {
   "cell_type": "code",
   "execution_count": null,
   "metadata": {},
   "outputs": [],
   "source": [
    "\n",
    "from pydantic import BaseModel\n",
    "\n",
    "class Person(BaseModel):\n",
    "    name: str\n",
    "    age: int\n",
    "\n",
    "    def config(self):\n",
    "        return f\"Hello, my name is {self.name} and I am {self.age} years old!\"\n"
   ]
  },
  {
   "cell_type": "code",
   "execution_count": null,
   "metadata": {},
   "outputs": [],
   "source": []
  }
 ],
 "metadata": {
  "kernelspec": {
   "display_name": "Python 3",
   "language": "python",
   "name": "python3"
  },
  "language_info": {
   "codemirror_mode": {
    "name": "ipython",
    "version": 3
   },
   "file_extension": ".py",
   "mimetype": "text/x-python",
   "name": "python",
   "nbconvert_exporter": "python",
   "pygments_lexer": "ipython3",
   "version": "3.10.12"
  }
 },
 "nbformat": 4,
 "nbformat_minor": 2
}
