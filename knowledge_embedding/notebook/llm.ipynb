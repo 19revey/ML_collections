{
 "cells": [
  {
   "cell_type": "code",
   "execution_count": 3,
   "metadata": {},
   "outputs": [],
   "source": [
    "import streamlit as st\n",
    "from dotenv import load_dotenv\n",
    "from PyPDF2 import PdfReader\n",
    "from langchain.text_splitter import CharacterTextSplitter\n",
    "from langchain.memory import ConversationBufferMemory\n",
    "from langchain.chains import ConversationalRetrievalChain\n",
    "\n",
    "from langchain_community.llms import HuggingFaceHub\n",
    "from langchain_community.vectorstores import FAISS\n",
    "from langchain_community.embeddings import HuggingFaceEmbeddings, HuggingFaceInstructEmbeddings\n",
    "from dotenv import find_dotenv,load_dotenv\n",
    "\n",
    "from langchain_google_genai import GoogleGenerativeAI\n",
    "import google.generativeai as genai\n",
    "import os\n",
    "\n",
    "load_dotenv(find_dotenv())\n",
    "HUGGINGFACEHUB_API_TOKEN=os.getenv(\"HUGGINGFACEHUB_API_TOKEN\")\n",
    "GOOGLE_API_KEY=os.getenv(\"GOOGLE_API_KEY\")\n"
   ]
  },
  {
   "cell_type": "code",
   "execution_count": 6,
   "metadata": {},
   "outputs": [
    {
     "name": "stdout",
     "output_type": "stream",
     "text": [
      "**Pros:**\n",
      "\n",
      "* **Easy to learn:** Python is a high-level language with a simple and intuitive syntax, making it easy for beginners to learn.\n",
      "* **Versatile:** Python can be used for a wide variety of tasks, including web development, data science, machine learning, and artificial intelligence.\n",
      "* **Extensive library support:** Python has a large and comprehensive standard library, as well as a vast ecosystem of third-party libraries and packages, making it easy to find solutions for a variety of problems.\n",
      "* **Cross-platform:** Python is available for a wide range of platforms, including Windows, macOS, Linux, and Unix, making it easy to develop and deploy applications on different systems.\n",
      "* **Interpreted:** Python is an interpreted language, which means that it is executed line by line, making it easy to debug and test code.\n",
      "\n",
      "**Cons:**\n",
      "\n",
      "* **Slow execution speed:** Python is an interpreted language, which means that it is typically slower than compiled languages such as C or C++.\n",
      "* **Memory usage:** Python programs can be memory-intensive, especially when working with large datasets or complex algorithms.\n",
      "* **Not suitable for low-level programming:** Python is not well-suited for low-level programming tasks such as operating system development or embedded systems programming.\n",
      "* **Lack of static typing:** Python is a dynamically typed language, which means that the type of a variable is not known until runtime. This can lead to errors and unexpected behavior, especially for large and complex codebases.\n",
      "* **Security vulnerabilities:** Python is a popular target for attackers, and there have been several high-profile security vulnerabilities in the Python standard library and third-party packages.\n"
     ]
    }
   ],
   "source": [
    "llm = GoogleGenerativeAI(model=\"gemini-pro\", google_api_key=GOOGLE_API_KEY)\n",
    "print(\n",
    "    llm.invoke(\n",
    "        \"What are some of the pros and cons of Python as a programming language?\"\n",
    "    )\n",
    ")"
   ]
  },
  {
   "cell_type": "code",
   "execution_count": null,
   "metadata": {},
   "outputs": [],
   "source": []
  }
 ],
 "metadata": {
  "kernelspec": {
   "display_name": "Python 3",
   "language": "python",
   "name": "python3"
  },
  "language_info": {
   "codemirror_mode": {
    "name": "ipython",
    "version": 3
   },
   "file_extension": ".py",
   "mimetype": "text/x-python",
   "name": "python",
   "nbconvert_exporter": "python",
   "pygments_lexer": "ipython3",
   "version": "3.8.10"
  }
 },
 "nbformat": 4,
 "nbformat_minor": 2
}
